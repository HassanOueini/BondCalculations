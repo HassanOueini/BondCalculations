{
 "cells": [
  {
   "cell_type": "markdown",
   "id": "3b28f541-0226-4a03-8b06-a9bb0739b602",
   "metadata": {},
   "source": [
    "# Bond Calculator for YTM, Duration and Convexity"
   ]
  },
  {
   "cell_type": "markdown",
   "id": "6cd9f44c-a9e4-4ee7-8504-27ef1780a80c",
   "metadata": {},
   "source": [
    "The purpose of this project is to find price of bonds given time, payment frequency, interest rate, payment amount, and future value"
   ]
  },
  {
   "cell_type": "markdown",
   "id": "3f3ddc1c-5a23-473b-8552-c2acec209ea4",
   "metadata": {},
   "source": [
    "After finding YTM we will also show the bonds Duration using the first derivative of the bond equation and the Convexity using the second derivative of the equation"
   ]
  },
  {
   "cell_type": "code",
   "execution_count": 4,
   "id": "75291a04-8a27-4d7c-a309-0776d4796966",
   "metadata": {},
   "outputs": [],
   "source": [
    "#Import Data for sampling:\n",
    "bonds = [\n",
    "    {\"Bond\": \"B001\", \"FV\": 1000, \"C\": 0.05, \"T\": 10, \"PaymentFrequency\": 2, \"YTM\": 0.06}, \n",
    "    {\"Bond\": \"B002\", \"FV\": 1000, \"C\": 0.03, \"T\": 5, \"PaymentFrequency\": 1, \"YTM\": 0.04},  \n",
    "    {\"Bond\": \"B003\", \"FV\": 1000, \"C\": 0.07, \"T\": 15, \"PaymentFrequency\": 2, \"YTM\": 0.05},  \n",
    "]"
   ]
  },
  {
   "cell_type": "markdown",
   "id": "9c085599-60f6-4f40-819c-2b670f7630f7",
   "metadata": {},
   "source": [
    "This is the equation for bond prices. C represents the amount per cash flow, r is the interest rate or YTM, t is the time of current period, T is the total numbe of periods, FV is the future value and P is the price\n",
    "$$\n",
    "\\\n",
    "P(r) = \\sum_{t=1}^{T} \\frac{C}{(1+r)^t} + \\frac{FV}{(1+r)^T}\n",
    "\\\n",
    "$$"
   ]
  },
  {
   "cell_type": "code",
   "execution_count": 6,
   "id": "4500f75c-bde1-4dfe-a2ad-39a6098975f6",
   "metadata": {},
   "outputs": [],
   "source": [
    "#Bond calculation Function\n",
    "def calculate_bond_price(FV, C, T, YTM, PaymentFrequency):\n",
    "   \n",
    "    # Calculate coupon payment per period\n",
    "    coupon_payment = C * FV / PaymentFrequency\n",
    "    \n",
    "    # Total number of periods\n",
    "    num_periods = T * PaymentFrequency\n",
    "    \n",
    "    # Periodic yield\n",
    "    periodic_yield = YTM / PaymentFrequency\n",
    "    \n",
    "    # Calculate price as the sum of discounted cash flows\n",
    "    price = sum(coupon_payment / (1 + periodic_yield)**t for t in range(1, num_periods + 1))\n",
    "    \n",
    "    # Add the discounted face value\n",
    "    price += FV / (1 + periodic_yield)**num_periods\n",
    "    \n",
    "    return price"
   ]
  },
  {
   "cell_type": "code",
   "execution_count": 7,
   "id": "7e3b4fb5-3b92-4736-96bd-4ebcbe0fb414",
   "metadata": {},
   "outputs": [
    {
     "name": "stdout",
     "output_type": "stream",
     "text": [
      "Bond B001 Price: $925.61\n",
      "Bond B002 Price: $955.48\n",
      "Bond B003 Price: $1209.30\n"
     ]
    }
   ],
   "source": [
    "# Calculate and print bond prices\n",
    "for bond in bonds:\n",
    "    price = calculate_bond_price(\n",
    "        FV=bond[\"FV\"],\n",
    "        C=bond[\"C\"],\n",
    "        T=bond[\"T\"],\n",
    "        YTM=bond[\"YTM\"],\n",
    "        PaymentFrequency=bond[\"PaymentFrequency\"]\n",
    "    )\n",
    "    print(f\"Bond {bond['Bond']} Price: ${price:.2f}\")"
   ]
  },
  {
   "cell_type": "markdown",
   "id": "e0a24201-80a3-4159-87bb-c351962471ad",
   "metadata": {},
   "source": [
    "The first derivative, which represents duration, can be written as:\n",
    "$$\n",
    "\\\n",
    "P'(r) = - \\sum_{t=1}^{T} \\frac{t \\cdot C}{(1 + r)^{t+1}} - \\frac{T \\cdot FV}{(1 + r)^{T+1}}\n",
    "\\\n",
    "$$\n",
    "\n",
    "This gives a better representation of a bonds sensitivity to a change in interest rate change"
   ]
  },
  {
   "cell_type": "markdown",
   "id": "657dd14f-b901-418c-8b45-7afc065fa049",
   "metadata": {},
   "source": [
    "Macaulay Duration is the weighted average time of a bond's cash flows, weighted by present value of cash flows. It is represented as: \n",
    "$$\n",
    "D = \\frac{1}{P} \\sum_{t=1}^{T} \\frac{t \\cdot C}{(1+r)^t} + \\frac{T \\cdot FV}{(1+r)^T}\n",
    "$$"
   ]
  },
  {
   "cell_type": "code",
   "execution_count": 10,
   "id": "ce390d02-4a0b-4d8a-92d1-fa90cc0003a4",
   "metadata": {},
   "outputs": [],
   "source": [
    "def calculate_macaulay_duration(FV, C, T, YTM, PaymentFrequency):\n",
    "    # Calculate Macaulay Duration using the formula\n",
    "    price = calculate_bond_price(FV, C, T, YTM, PaymentFrequency)\n",
    "    duration = 0\n",
    "    for t in range(1, T + 1):\n",
    "        duration += t * C / (1 + YTM / PaymentFrequency) ** (t * PaymentFrequency)\n",
    "    duration += T * FV / (1 + YTM / PaymentFrequency) ** (T * PaymentFrequency)\n",
    "    macaulay_duration = duration / price\n",
    "    print(f\"Macaulay Duration: {macaulay_duration:.2f} years\")  # Print Macaulay duration\n",
    "    return macaulay_duration"
   ]
  },
  {
   "cell_type": "code",
   "execution_count": 11,
   "id": "a5467d60-4835-49d7-99a3-2fe79a326e29",
   "metadata": {},
   "outputs": [
    {
     "name": "stdout",
     "output_type": "stream",
     "text": [
      "Calculations for B001:\n",
      "\n",
      "Macaulay Duration: 5.98 years\n",
      "Calculations for B002:\n",
      "\n",
      "Macaulay Duration: 4.30 years\n",
      "Calculations for B003:\n",
      "\n",
      "Macaulay Duration: 5.92 years\n"
     ]
    }
   ],
   "source": [
    "for bond in bonds:\n",
    "    print(f\"Calculations for {bond['Bond']}:\\n\")\n",
    "    calculate_macaulay_duration(\n",
    "        FV=bond[\"FV\"],\n",
    "        C=bond[\"C\"],\n",
    "        T=bond[\"T\"],\n",
    "        YTM=bond[\"YTM\"],\n",
    "        PaymentFrequency=bond[\"PaymentFrequency\"]\n",
    "    )"
   ]
  },
  {
   "cell_type": "markdown",
   "id": "97d45eb8-f8d1-4cdd-acdc-91e15e9dbd16",
   "metadata": {},
   "source": [
    "Modified Duration is the macaulay duration adjusted for the bond's yield\n",
    "$$\n",
    "D_{\\text{mod}} = \\frac{D}{(1+r)}\n",
    "$$"
   ]
  },
  {
   "cell_type": "code",
   "execution_count": 13,
   "id": "c0364dae-bfde-4f2f-87b1-df58e18b0e24",
   "metadata": {},
   "outputs": [],
   "source": [
    "def calculate_modified_duration(FV, C, T, YTM, PaymentFrequency):\n",
    "    # Calculate Modified Duration using the formula\n",
    "    macaulay_duration = calculate_macaulay_duration(FV, C, T, YTM, PaymentFrequency)\n",
    "    modified_duration = macaulay_duration / (1 + YTM / PaymentFrequency)\n",
    "    print(f\"Modified Duration: {modified_duration:.2f} years\\n\")  # Print Modified duration\n",
    "    return modified_duration"
   ]
  },
  {
   "cell_type": "code",
   "execution_count": 14,
   "id": "a147ea3c-2a60-4d61-8710-a024b6ce5cf7",
   "metadata": {},
   "outputs": [
    {
     "name": "stdout",
     "output_type": "stream",
     "text": [
      "Calculations for B001:\n",
      "\n",
      "Macaulay Duration: 5.98 years\n",
      "Modified Duration: 5.81 years\n",
      "\n",
      "Calculations for B002:\n",
      "\n",
      "Macaulay Duration: 4.30 years\n",
      "Modified Duration: 4.14 years\n",
      "\n",
      "Calculations for B003:\n",
      "\n",
      "Macaulay Duration: 5.92 years\n",
      "Modified Duration: 5.77 years\n",
      "\n"
     ]
    }
   ],
   "source": [
    "for bond in bonds:\n",
    "    print(f\"Calculations for {bond['Bond']}:\\n\")\n",
    "    calculate_modified_duration(\n",
    "        FV=bond[\"FV\"],\n",
    "        C=bond[\"C\"],\n",
    "        T=bond[\"T\"],\n",
    "        YTM=bond[\"YTM\"],\n",
    "        PaymentFrequency=bond[\"PaymentFrequency\"]\n",
    "    )"
   ]
  },
  {
   "cell_type": "markdown",
   "id": "4b561f9e-1157-45d3-88cf-32594f01f80f",
   "metadata": {},
   "source": [
    "Convexity represents the curvature in the bond price-yield relationship. Duration only showcases the linear approximation, so convexity captures the non-linear relationship. It is represented by the second derivative of the bond equation\n",
    "$$\n",
    "\\\n",
    "C = \\ \\sum_{t=1}^{T} \\frac{t(t+1) \\cdot C}{(1+r)^{t+2}} + \\frac{r(r+1) \\cdot FV}{(1+r)^{T+2}}\n",
    "\\\n",
    "$$"
   ]
  },
  {
   "cell_type": "markdown",
   "id": "0a2e635c-65cf-4910-a161-0600d9df4de8",
   "metadata": {},
   "source": [
    "To calculate the adjustment we must normalize for price\n",
    "$$\n",
    "\\\n",
    "C = \\frac{1}{P} \\sum_{t=1}^{T} \\frac{t(t+1) \\cdot C}{(1+r)^{t+2}} + \\frac{T(T+1) \\cdot FV}{(1+r)^{T+2}}\n",
    "\\\n",
    "$$"
   ]
  },
  {
   "cell_type": "code",
   "execution_count": 17,
   "id": "96e4fb74-5a1b-42fc-b32e-fe52bcaf174c",
   "metadata": {},
   "outputs": [],
   "source": [
    "def calculate_convexity(FV, C, T, YTM, PaymentFrequency):\n",
    "    # Calculate bond price using the bond price formula\n",
    "    price = calculate_bond_price(FV, C, T, YTM, PaymentFrequency)\n",
    "    convexity = 0\n",
    "    for t in range(1, T + 1):\n",
    "        convexity += t * (t + 1) * C / (1 + YTM / PaymentFrequency) ** (t * PaymentFrequency + 2)\n",
    "    convexity += T * (T + 1) * FV / (1 + YTM / PaymentFrequency) ** (T * PaymentFrequency + 2)\n",
    "    convexity = convexity / price\n",
    "    print(f\"Convexity: {convexity:.4f} years^2\\n\")  # Print Convexity\n",
    "    return convexity"
   ]
  },
  {
   "cell_type": "code",
   "execution_count": 18,
   "id": "7bec474a-fb74-4e4b-91bf-997e93573a3e",
   "metadata": {},
   "outputs": [
    {
     "name": "stdout",
     "output_type": "stream",
     "text": [
      "Calculations for B001:\n",
      "\n",
      "Convexity: 62.0361 years^2\n",
      "\n",
      "Calculations for B002:\n",
      "\n",
      "Convexity: 23.8615 years^2\n",
      "\n",
      "Calculations for B003:\n",
      "\n",
      "Convexity: 90.0989 years^2\n",
      "\n"
     ]
    }
   ],
   "source": [
    "for bond in bonds:\n",
    " print(f\"Calculations for {bond['Bond']}:\\n\")   \n",
    " calculate_convexity(\n",
    "        FV=bond[\"FV\"],\n",
    "        C=bond[\"C\"],\n",
    "        T=bond[\"T\"],\n",
    "        YTM=bond[\"YTM\"],\n",
    "        PaymentFrequency=bond[\"PaymentFrequency\"]\n",
    "    )"
   ]
  }
 ],
 "metadata": {
  "kernelspec": {
   "display_name": "Python [conda env:base] *",
   "language": "python",
   "name": "conda-base-py"
  },
  "language_info": {
   "codemirror_mode": {
    "name": "ipython",
    "version": 3
   },
   "file_extension": ".py",
   "mimetype": "text/x-python",
   "name": "python",
   "nbconvert_exporter": "python",
   "pygments_lexer": "ipython3",
   "version": "3.11.7"
  }
 },
 "nbformat": 4,
 "nbformat_minor": 5
}
